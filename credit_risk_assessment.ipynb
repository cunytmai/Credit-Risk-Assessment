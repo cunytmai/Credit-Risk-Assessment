{
 "cells": [
  {
   "cell_type": "code",
   "execution_count": 1,
   "metadata": {},
   "outputs": [
    {
     "name": "stderr",
     "output_type": "stream",
     "text": [
      "Using TensorFlow backend.\n"
     ]
    }
   ],
   "source": [
    "import numpy as np \n",
    "import pandas as pd \n",
    "import matplotlib.pyplot as plt \n",
    "import seaborn as sns\n",
    "import plotly.express as px\n",
    "\n",
    "from scipy import stats\n",
    "from scipy.stats import norm, skew\n",
    "\n",
    "from imblearn.over_sampling import SMOTE \n",
    "\n",
    "from sklearn.model_selection import train_test_split\n",
    "from sklearn.preprocessing import MinMaxScaler\n",
    "from sklearn.preprocessing import Normalizer\n",
    "from sklearn.linear_model import LogisticRegression\n",
    "\n",
    "from xgboost import XGBClassifier\n",
    "\n",
    "from sklearn.metrics import accuracy_score\n",
    "from sklearn.metrics import classification_report\n",
    "from sklearn.metrics import confusion_matrix\n",
    "from sklearn.metrics import roc_curve, auc\n",
    "from sklearn.metrics import roc_auc_score"
   ]
  },
  {
   "cell_type": "code",
   "execution_count": 2,
   "metadata": {},
   "outputs": [],
   "source": [
    "credit = pd.read_csv('./../data-set/credit_risk_dataset.csv')"
   ]
  },
  {
   "cell_type": "code",
   "execution_count": 3,
   "metadata": {},
   "outputs": [
    {
     "data": {
      "text/html": [
       "<div>\n",
       "<style scoped>\n",
       "    .dataframe tbody tr th:only-of-type {\n",
       "        vertical-align: middle;\n",
       "    }\n",
       "\n",
       "    .dataframe tbody tr th {\n",
       "        vertical-align: top;\n",
       "    }\n",
       "\n",
       "    .dataframe thead th {\n",
       "        text-align: right;\n",
       "    }\n",
       "</style>\n",
       "<table border=\"1\" class=\"dataframe\">\n",
       "  <thead>\n",
       "    <tr style=\"text-align: right;\">\n",
       "      <th></th>\n",
       "      <th>person_age</th>\n",
       "      <th>person_income</th>\n",
       "      <th>person_home_ownership</th>\n",
       "      <th>person_emp_length</th>\n",
       "      <th>loan_intent</th>\n",
       "      <th>loan_grade</th>\n",
       "      <th>loan_amnt</th>\n",
       "      <th>loan_int_rate</th>\n",
       "      <th>loan_status</th>\n",
       "      <th>loan_percent_income</th>\n",
       "      <th>cb_person_default_on_file</th>\n",
       "      <th>cb_person_cred_hist_length</th>\n",
       "    </tr>\n",
       "  </thead>\n",
       "  <tbody>\n",
       "    <tr>\n",
       "      <th>0</th>\n",
       "      <td>22</td>\n",
       "      <td>59000</td>\n",
       "      <td>RENT</td>\n",
       "      <td>123.0</td>\n",
       "      <td>PERSONAL</td>\n",
       "      <td>D</td>\n",
       "      <td>35000</td>\n",
       "      <td>16.02</td>\n",
       "      <td>1</td>\n",
       "      <td>0.59</td>\n",
       "      <td>Y</td>\n",
       "      <td>3</td>\n",
       "    </tr>\n",
       "    <tr>\n",
       "      <th>1</th>\n",
       "      <td>21</td>\n",
       "      <td>9600</td>\n",
       "      <td>OWN</td>\n",
       "      <td>5.0</td>\n",
       "      <td>EDUCATION</td>\n",
       "      <td>B</td>\n",
       "      <td>1000</td>\n",
       "      <td>11.14</td>\n",
       "      <td>0</td>\n",
       "      <td>0.10</td>\n",
       "      <td>N</td>\n",
       "      <td>2</td>\n",
       "    </tr>\n",
       "    <tr>\n",
       "      <th>2</th>\n",
       "      <td>25</td>\n",
       "      <td>9600</td>\n",
       "      <td>MORTGAGE</td>\n",
       "      <td>1.0</td>\n",
       "      <td>MEDICAL</td>\n",
       "      <td>C</td>\n",
       "      <td>5500</td>\n",
       "      <td>12.87</td>\n",
       "      <td>1</td>\n",
       "      <td>0.57</td>\n",
       "      <td>N</td>\n",
       "      <td>3</td>\n",
       "    </tr>\n",
       "    <tr>\n",
       "      <th>3</th>\n",
       "      <td>23</td>\n",
       "      <td>65500</td>\n",
       "      <td>RENT</td>\n",
       "      <td>4.0</td>\n",
       "      <td>MEDICAL</td>\n",
       "      <td>C</td>\n",
       "      <td>35000</td>\n",
       "      <td>15.23</td>\n",
       "      <td>1</td>\n",
       "      <td>0.53</td>\n",
       "      <td>N</td>\n",
       "      <td>2</td>\n",
       "    </tr>\n",
       "    <tr>\n",
       "      <th>4</th>\n",
       "      <td>24</td>\n",
       "      <td>54400</td>\n",
       "      <td>RENT</td>\n",
       "      <td>8.0</td>\n",
       "      <td>MEDICAL</td>\n",
       "      <td>C</td>\n",
       "      <td>35000</td>\n",
       "      <td>14.27</td>\n",
       "      <td>1</td>\n",
       "      <td>0.55</td>\n",
       "      <td>Y</td>\n",
       "      <td>4</td>\n",
       "    </tr>\n",
       "  </tbody>\n",
       "</table>\n",
       "</div>"
      ],
      "text/plain": [
       "   person_age  person_income person_home_ownership  person_emp_length  \\\n",
       "0          22          59000                  RENT              123.0   \n",
       "1          21           9600                   OWN                5.0   \n",
       "2          25           9600              MORTGAGE                1.0   \n",
       "3          23          65500                  RENT                4.0   \n",
       "4          24          54400                  RENT                8.0   \n",
       "\n",
       "  loan_intent loan_grade  loan_amnt  loan_int_rate  loan_status  \\\n",
       "0    PERSONAL          D      35000          16.02            1   \n",
       "1   EDUCATION          B       1000          11.14            0   \n",
       "2     MEDICAL          C       5500          12.87            1   \n",
       "3     MEDICAL          C      35000          15.23            1   \n",
       "4     MEDICAL          C      35000          14.27            1   \n",
       "\n",
       "   loan_percent_income cb_person_default_on_file  cb_person_cred_hist_length  \n",
       "0                 0.59                         Y                           3  \n",
       "1                 0.10                         N                           2  \n",
       "2                 0.57                         N                           3  \n",
       "3                 0.53                         N                           2  \n",
       "4                 0.55                         Y                           4  "
      ]
     },
     "execution_count": 3,
     "metadata": {},
     "output_type": "execute_result"
    }
   ],
   "source": [
    "credit.head(5)"
   ]
  },
  {
   "cell_type": "code",
   "execution_count": 4,
   "metadata": {},
   "outputs": [
    {
     "name": "stdout",
     "output_type": "stream",
     "text": [
      "person_age int64\n",
      "person_income int64\n",
      "person_home_ownership object\n",
      "person_emp_length float64\n",
      "loan_intent object\n",
      "loan_grade object\n",
      "loan_amnt int64\n",
      "loan_int_rate float64\n",
      "loan_status int64\n",
      "loan_percent_income float64\n",
      "cb_person_default_on_file object\n",
      "cb_person_cred_hist_length int64\n",
      "(32581, 12)\n"
     ]
    }
   ],
   "source": [
    "for i in range(len(credit.columns)):\n",
    "    print(credit.iloc[:,i].name, credit.iloc[:,i].dtype)\n",
    "\n",
    "print(credit.shape)"
   ]
  },
  {
   "cell_type": "code",
   "execution_count": 5,
   "metadata": {},
   "outputs": [
    {
     "name": "stdout",
     "output_type": "stream",
     "text": [
      "loan_int_rate        3116\n",
      "person_emp_length     895\n",
      "dtype: int64\n"
     ]
    }
   ],
   "source": [
    "na_data = credit.isnull().sum()\n",
    "na_data_train = na_data.drop(na_data[na_data == 0].index).sort_values(ascending=False)\n",
    "print(na_data_train)"
   ]
  },
  {
   "cell_type": "code",
   "execution_count": 6,
   "metadata": {},
   "outputs": [],
   "source": [
    "list_dummy = credit.select_dtypes(\"object\").columns.tolist()\n",
    "list_dummies = pd.get_dummies(credit[list_dummy])"
   ]
  },
  {
   "cell_type": "code",
   "execution_count": 7,
   "metadata": {},
   "outputs": [],
   "source": [
    "credit_data = credit.select_dtypes(exclude=[\"object\"])\n",
    "credit_data = credit_data.fillna(credit_data.mean())\n",
    "credit_data = pd.concat([credit_data, list_dummies], axis = 1)\n",
    "credit_data = credit_data.fillna(0)"
   ]
  },
  {
   "cell_type": "code",
   "execution_count": 8,
   "metadata": {},
   "outputs": [
    {
     "data": {
      "text/html": [
       "<div>\n",
       "<style scoped>\n",
       "    .dataframe tbody tr th:only-of-type {\n",
       "        vertical-align: middle;\n",
       "    }\n",
       "\n",
       "    .dataframe tbody tr th {\n",
       "        vertical-align: top;\n",
       "    }\n",
       "\n",
       "    .dataframe thead th {\n",
       "        text-align: right;\n",
       "    }\n",
       "</style>\n",
       "<table border=\"1\" class=\"dataframe\">\n",
       "  <thead>\n",
       "    <tr style=\"text-align: right;\">\n",
       "      <th></th>\n",
       "      <th>target</th>\n",
       "      <th>count</th>\n",
       "    </tr>\n",
       "  </thead>\n",
       "  <tbody>\n",
       "    <tr>\n",
       "      <th>0</th>\n",
       "      <td>1</td>\n",
       "      <td>7108</td>\n",
       "    </tr>\n",
       "    <tr>\n",
       "      <th>1</th>\n",
       "      <td>0</td>\n",
       "      <td>25473</td>\n",
       "    </tr>\n",
       "  </tbody>\n",
       "</table>\n",
       "</div>"
      ],
      "text/plain": [
       "   target  count\n",
       "0       1   7108\n",
       "1       0  25473"
      ]
     },
     "execution_count": 8,
     "metadata": {},
     "output_type": "execute_result"
    }
   ],
   "source": [
    "target_0 = 0\n",
    "target_1 = 0\n",
    "\n",
    "for i in range(len(credit_data.loan_status)):\n",
    "    if credit_data.loan_status[i] == 0:\n",
    "        target_0 += 1\n",
    "    else:\n",
    "        target_1 += 1\n",
    "\n",
    "target_class = credit_data.loan_status.unique()\n",
    "target_list =[target_1, target_0]\n",
    "\n",
    "d = {'target':target_class, 'count':target_list}\n",
    "target_g = pd.DataFrame(d)\n",
    "target_g"
   ]
  },
  {
   "cell_type": "code",
   "execution_count": 9,
   "metadata": {},
   "outputs": [
    {
     "data": {
      "text/plain": [
       "Text(0.5,1,'Total number of Target Instances')"
      ]
     },
     "execution_count": 9,
     "metadata": {},
     "output_type": "execute_result"
    },
    {
     "data": {
      "image/png": "[encoded data removed]",
      "text/plain": [
       "<Figure size 720x360 with 1 Axes>"
      ]
     },
     "metadata": {
      "needs_background": "light"
     },
     "output_type": "display_data"
    }
   ],
   "source": [
    "fig, ax = plt.subplots(figsize=(10,5))\n",
    "ax = sns.barplot(x='target', y='count', data=target_g, color='b')\n",
    "ax.set_title('Total number of Target Instances')"
   ]
  },
  {
   "cell_type": "code",
   "execution_count": 10,
   "metadata": {},
   "outputs": [],
   "source": [
    "x = credit_data\n",
    "x = x.drop(['loan_status'], axis=1)\n",
    "y = credit_data.loan_status\n",
    "\n",
    "X_train, X_test, y_train, y_test = train_test_split(x, y, test_size=0.3, random_state=42)\n",
    "\n",
    "sm = SMOTE(random_state=42)\n",
    "X_res_train, y_res_train = sm.fit_resample(X_train, y_train)"
   ]
  },
  {
   "cell_type": "code",
   "execution_count": 11,
   "metadata": {},
   "outputs": [],
   "source": [
    "scaling = Normalizer()\n",
    "X_res_train = scaling.fit_transform(X_res_train)\n",
    "X_test_norm = scaling.fit_transform(X_test)"
   ]
  },
  {
   "cell_type": "code",
   "execution_count": 12,
   "metadata": {},
   "outputs": [
    {
     "name": "stdout",
     "output_type": "stream",
     "text": [
      "Number of Samples Train:  35720\n",
      "Number of Samples Test:  9775\n"
     ]
    },
    {
     "data": {
      "image/png": "[encoded data removed]",
      "text/plain": [
       "<Figure size 432x288 with 1 Axes>"
      ]
     },
     "metadata": {
      "needs_background": "light"
     },
     "output_type": "display_data"
    }
   ],
   "source": [
    "objects = ('Train', 'Test')\n",
    "y_pos = np.arange(len(objects))\n",
    "samples = []\n",
    "\n",
    "samples.append(len(X_res_train))\n",
    "samples.append(len(X_test_norm))\n",
    "\n",
    "print(\"Number of Samples Train: \", samples[0]) \n",
    "print(\"Number of Samples Test: \", samples[1]) \n",
    "\n",
    "plt.bar(y_pos, samples, align='center', alpha=0.5)\n",
    "plt.xticks(y_pos, objects)\n",
    "plt.title('Number of Samples')\n",
    "\n",
    "plt.show()"
   ]
  },
  {
   "cell_type": "code",
   "execution_count": 13,
   "metadata": {},
   "outputs": [
    {
     "name": "stderr",
     "output_type": "stream",
     "text": [
      "c:\\users\\tony\\appdata\\local\\programs\\python\\python36\\lib\\site-packages\\sklearn\\linear_model\\logistic.py:432: FutureWarning:\n",
      "\n",
      "Default solver will be changed to 'lbfgs' in 0.22. Specify a solver to silence this warning.\n",
      "\n"
     ]
    },
    {
     "data": {
      "text/plain": [
       "LogisticRegression(C=1.0, class_weight=None, dual=False, fit_intercept=True,\n",
       "                   intercept_scaling=1, l1_ratio=None, max_iter=100,\n",
       "                   multi_class='warn', n_jobs=None, penalty='l2',\n",
       "                   random_state=0, solver='warn', tol=0.0001, verbose=0,\n",
       "                   warm_start=False)"
      ]
     },
     "execution_count": 13,
     "metadata": {},
     "output_type": "execute_result"
    }
   ],
   "source": [
    "logr = LogisticRegression(random_state=0)\n",
    "logr.fit(X_res_train, y_res_train)"
   ]
  },
  {
   "cell_type": "code",
   "execution_count": 14,
   "metadata": {},
   "outputs": [
    {
     "data": {
      "text/plain": [
       "XGBClassifier(base_score=0.5, booster='gbtree', colsample_bylevel=1,\n",
       "              colsample_bynode=1, colsample_bytree=1, gamma=0,\n",
       "              learning_rate=0.1, max_delta_step=0, max_depth=3,\n",
       "              min_child_weight=1, missing=None, n_estimators=100, n_jobs=1,\n",
       "              nthread=None, objective='binary:logistic', random_state=0,\n",
       "              reg_alpha=0, reg_lambda=1, scale_pos_weight=1, seed=None,\n",
       "              silent=None, subsample=1, verbosity=1)"
      ]
     },
     "execution_count": 14,
     "metadata": {},
     "output_type": "execute_result"
    }
   ],
   "source": [
    "xg = XGBClassifier()\n",
    "xg.fit(X_res_train, y_res_train)"
   ]
  },
  {
   "cell_type": "code",
   "execution_count": 15,
   "metadata": {},
   "outputs": [
    {
     "name": "stdout",
     "output_type": "stream",
     "text": [
      "Accuracy of Logistic Regression classifier on test set: 69.80%\n",
      "Accuracy of XGBoost classifier on test set: 91.61%\n"
     ]
    }
   ],
   "source": [
    "test_pred = logr.predict(X_test_norm)\n",
    "accuracy_logr = logr.score(X_test_norm, y_test)\n",
    "\n",
    "print(\"Accuracy of Logistic Regression classifier on test set: %.2f%%\" % (accuracy_logr * 100.0))\n",
    "\n",
    "y_pred = xg.predict(X_test_norm)\n",
    "predictions = [round(value) for value in y_pred]\n",
    "accuracy_xg = accuracy_score(y_test, predictions)\n",
    "\n",
    "print(\"Accuracy of XGBoost classifier on test set: %.2f%%\" % (accuracy_xg * 100.0))"
   ]
  },
  {
   "cell_type": "code",
   "execution_count": 16,
   "metadata": {},
   "outputs": [
    {
     "data": {
      "text/plain": [
       "<matplotlib.axes._subplots.AxesSubplot at 0x2879eeb16d8>"
      ]
     },
     "execution_count": 16,
     "metadata": {},
     "output_type": "execute_result"
    },
    {
     "data": {
      "image/png": "[encoded data removed]",
      "text/plain": [
       "<Figure size 720x720 with 2 Axes>"
      ]
     },
     "metadata": {
      "needs_background": "light"
     },
     "output_type": "display_data"
    }
   ],
   "source": [
    "cm = confusion_matrix(y_test, test_pred) \n",
    "cmn = cm.astype('float') / cm.sum(axis=1)[:, np.newaxis]\n",
    "\n",
    "plt.figure(figsize=(10,10))\n",
    "plt.title('Confusion Matrix for LogR', fontsize = 25)\n",
    "sns.heatmap(cmn, annot=True, fmt=\".2f\", linewidths=.5, cmap=\"Blues\", annot_kws={\"size\": 25})"
   ]
  },
  {
   "cell_type": "code",
   "execution_count": 17,
   "metadata": {},
   "outputs": [
    {
     "data": {
      "text/plain": [
       "<matplotlib.axes._subplots.AxesSubplot at 0x2879e4d7ba8>"
      ]
     },
     "execution_count": 17,
     "metadata": {},
     "output_type": "execute_result"
    },
    {
     "data": {
      "image/png": "[encoded data removed]",
      "text/plain": [
       "<Figure size 720x720 with 2 Axes>"
      ]
     },
     "metadata": {
      "needs_background": "light"
     },
     "output_type": "display_data"
    }
   ],
   "source": [
    "cm = confusion_matrix(y_test, predictions) \n",
    "cmn = cm.astype('float') / cm.sum(axis=1)[:, np.newaxis]\n",
    "\n",
    "plt.figure(figsize=(10,10))\n",
    "plt.title('Confusion Matrix for XGBoost', fontsize = 25)\n",
    "sns.heatmap(cmn, annot=True, fmt=\".2f\", linewidths=.5, cmap=\"Blues\", annot_kws={\"size\": 25})"
   ]
  },
  {
   "cell_type": "code",
   "execution_count": 18,
   "metadata": {},
   "outputs": [
    {
     "name": "stdout",
     "output_type": "stream",
     "text": [
      "Logistic Regression Report: \n",
      "               precision    recall  f1-score   support\n",
      "\n",
      "           0       0.86      0.73      0.79      7613\n",
      "           1       0.38      0.60      0.47      2162\n",
      "\n",
      "    accuracy                           0.70      9775\n",
      "   macro avg       0.62      0.66      0.63      9775\n",
      "weighted avg       0.76      0.70      0.72      9775\n",
      " \n",
      "\n",
      "XGBoost Report: \n",
      "               precision    recall  f1-score   support\n",
      "\n",
      "           0       0.93      0.97      0.95      7613\n",
      "           1       0.87      0.72      0.79      2162\n",
      "\n",
      "    accuracy                           0.92      9775\n",
      "   macro avg       0.90      0.85      0.87      9775\n",
      "weighted avg       0.91      0.92      0.91      9775\n",
      "\n"
     ]
    }
   ],
   "source": [
    "print('Logistic Regression Report: \\n', classification_report(y_test, test_pred),'\\n')\n",
    "print('XGBoost Report: \\n', classification_report(y_test, y_pred))"
   ]
  },
  {
   "cell_type": "code",
   "execution_count": 19,
   "metadata": {},
   "outputs": [
    {
     "data": {
      "image/png": "[encoded data removed]",
      "text/plain": [
       "<Figure size 432x288 with 1 Axes>"
      ]
     },
     "metadata": {
      "needs_background": "light"
     },
     "output_type": "display_data"
    }
   ],
   "source": [
    "logit_roc_auc = roc_auc_score(y_test, logr.predict(X_test_norm))\n",
    "fpr, tpr, thresholds = roc_curve(y_test, logr.predict_proba(X_test_norm)[:,1])\n",
    "plt.figure()\n",
    "plt.plot(fpr, tpr, label='Logistic Regression (area = %0.2f)' % logit_roc_auc)\n",
    "plt.plot([0, 1], [0, 1],'r--')\n",
    "plt.xlim([0.0, 1.0])\n",
    "plt.ylim([0.0, 1.05])\n",
    "plt.xlabel('False Positive Rate')\n",
    "plt.ylabel('True Positive Rate')\n",
    "plt.title('LogR Receiver operating characteristic')\n",
    "plt.legend(loc=\"lower right\")\n",
    "# plt.savefig('Log_ROC')\n",
    "plt.show()"
   ]
  },
  {
   "cell_type": "code",
   "execution_count": 20,
   "metadata": {},
   "outputs": [
    {
     "data": {
      "image/png": "[encoded data removed]",
      "text/plain": [
       "<Figure size 432x288 with 1 Axes>"
      ]
     },
     "metadata": {
      "needs_background": "light"
     },
     "output_type": "display_data"
    }
   ],
   "source": [
    "logit_roc_auc = roc_auc_score(y_test, xg.predict(X_test_norm))\n",
    "fpr, tpr, thresholds = roc_curve(y_test, xg.predict_proba(X_test_norm)[:,1])\n",
    "plt.figure()\n",
    "plt.plot(fpr, tpr, label='Logistic Regression (area = %0.2f)' % logit_roc_auc)\n",
    "plt.plot([0, 1], [0, 1],'r--')\n",
    "plt.xlim([0.0, 1.0])\n",
    "plt.ylim([0.0, 1.05])\n",
    "plt.xlabel('False Positive Rate')\n",
    "plt.ylabel('True Positive Rate')\n",
    "plt.title('XGBoost Receiver operating characteristic')\n",
    "plt.legend(loc=\"lower right\")\n",
    "# plt.savefig('Log_ROC')\n",
    "plt.show()"
   ]
  },
  {
   "cell_type": "code",
   "execution_count": 21,
   "metadata": {},
   "outputs": [],
   "source": [
    "test_pred = logr.predict(X_test_norm)\n",
    "test_pred_prob = logr.predict_proba(X_test_norm).T[1]\n",
    "index = X_test.person_age\n",
    "p_income = X_test.person_income\n",
    "\n",
    "test_pred_table_logr = pd.DataFrame({'Age': index, 'Income': p_income, \n",
    "                                'loan_status_predict': test_pred, 'loan_status_probability': test_pred_prob*100})"
   ]
  },
  {
   "cell_type": "code",
   "execution_count": 31,
   "metadata": {},
   "outputs": [
    {
     "name": "stdout",
     "output_type": "stream",
     "text": [
      "LogR Prediction Table\n",
      "      Age  Income  loan_status_predict  loan_status_probability\n",
      "0      24   28000                    1                78.588604\n",
      "1      27   64000                    0                42.482224\n",
      "2      26   72000                    1                55.584906\n",
      "3      23   27996                    1                78.595022\n",
      "4      30   44500                    1                68.676680\n",
      "5      25   63000                    1                72.831963\n",
      "6      26   27031                    1                55.559512\n",
      "7      30   40000                    0                26.187391\n",
      "8      26   90000                    0                33.298395\n",
      "9      35   41235                    0                27.741457\n",
      "10     21   26400                    0                47.163945\n",
      "11     26   59500                    1                51.491910\n",
      "12     39  134000                    0                48.462745\n",
      "13     22   60000                    1                84.096524\n",
      "14     23   32000                    1                63.948690\n",
      "15     25   30000                    0                46.518004\n",
      "16     24  148000                    0                44.951559\n",
      "17     35  138000                    0                32.395670\n",
      "18     26  190000                    0                33.048369\n",
      "19     23  167300                    0                35.572640\n",
      "20     34  122400                    0                25.159986\n",
      "21     23  120000                    0                24.368930\n",
      "22     23   39000                    1                81.972488\n",
      "23     27   35000                    0                45.471729\n",
      "24     31   65800                    1                81.424178\n",
      "25     32   52256                    0                29.542549\n",
      "26     36  408000                    0                29.779431\n",
      "27     25   51850                    0                27.222768\n",
      "28     37  120000                    0                23.678647\n",
      "29     26  188000                    0                33.243205\n",
      "...   ...     ...                  ...                      ...\n",
      "9745   23   25480                    1                50.424028\n",
      "9746   47   54996                    0                43.940897\n",
      "9747   29   48000                    0                35.076656\n",
      "9748   22   38000                    1                90.800509\n",
      "9749   46   48000                    0                46.189678\n",
      "9750   24  110000                    0                24.498015\n",
      "9751   32   45000                    1                71.833464\n",
      "9752   25   50000                    0                35.670282\n",
      "9753   24   30000                    1                54.501606\n",
      "9754   31   65000                    0                30.864280\n",
      "9755   32   42000                    1                60.557305\n",
      "9756   25   93000                    0                37.307428\n",
      "9757   41  125000                    0                35.624474\n",
      "9758   27   48996                    0                29.129361\n",
      "9759   25   31000                    0                49.879788\n",
      "9760   28   54000                    0                22.616017\n",
      "9761   25  105000                    0                34.635407\n",
      "9762   26   53000                    0                24.776483\n",
      "9763   23   49530                    1                73.702894\n",
      "9764   24   31000                    1                90.770688\n",
      "9765   26   33996                    1                66.978266\n",
      "9766   28   60000                    0                44.520180\n",
      "9767   21   62316                    0                43.299120\n",
      "9768   32   45000                    0                46.726719\n",
      "9769   27   48000                    0                30.418827\n",
      "9770   38   70000                    0                27.528751\n",
      "9771   27  150000                    0                35.656091\n",
      "9772   33   19200                    1                85.362645\n",
      "9773   29   96500                    0                32.771868\n",
      "9774   30  110925                    1                56.205656\n",
      "\n",
      "[9775 rows x 4 columns]\n"
     ]
    }
   ],
   "source": [
    "print('LogR Prediction Table')\n",
    "test_pred_table_logr = test_pred_table_logr.reset_index(drop=True)\n",
    "test_pred_table_logr.to_csv('test_prediction_logr.csv')\n",
    "print(test_pred_table_logr)"
   ]
  },
  {
   "cell_type": "code",
   "execution_count": 27,
   "metadata": {},
   "outputs": [],
   "source": [
    "test_pred_xg = xg.predict(X_test_norm)\n",
    "test_pred_prob_xg = xg.predict_proba(X_test_norm).T[1]\n",
    "index = X_test.person_age\n",
    "p_income = X_test.person_income\n",
    "\n",
    "test_pred_table_xg = pd.DataFrame({'Age': index, 'Income': p_income, \n",
    "                                'loan_status_predict': test_pred_xg, 'loan_status_probability': test_pred_prob_xg*100})"
   ]
  },
  {
   "cell_type": "code",
   "execution_count": 32,
   "metadata": {},
   "outputs": [
    {
     "name": "stdout",
     "output_type": "stream",
     "text": [
      "LogR Prediction Table\n",
      "      Age  Income  loan_status_predict  loan_status_probability\n",
      "0      24   28000                    0                18.297794\n",
      "1      27   64000                    0                18.124834\n",
      "2      26   72000                    0                26.432068\n",
      "3      23   27996                    1                98.049362\n",
      "4      30   44500                    1                75.986000\n",
      "5      25   63000                    0                26.587645\n",
      "6      26   27031                    0                18.567739\n",
      "7      30   40000                    0                 5.379700\n",
      "8      26   90000                    0                17.081354\n",
      "9      35   41235                    0                 4.308392\n",
      "10     21   26400                    0                34.807335\n",
      "11     26   59500                    0                 3.222669\n",
      "12     39  134000                    0                 3.172504\n",
      "13     22   60000                    0                29.171177\n",
      "14     23   32000                    0                25.857216\n",
      "15     25   30000                    0                30.018160\n",
      "16     24  148000                    1                87.654716\n",
      "17     35  138000                    0                 4.798130\n",
      "18     26  190000                    0                 3.349410\n",
      "19     23  167300                    0                 5.540418\n",
      "20     34  122400                    0                 6.021705\n",
      "21     23  120000                    0                 6.334918\n",
      "22     23   39000                    1                95.757034\n",
      "23     27   35000                    0                11.870818\n",
      "24     31   65800                    1                87.145920\n",
      "25     32   52256                    0                14.086130\n",
      "26     36  408000                    0                 7.114465\n",
      "27     25   51850                    0                17.318197\n",
      "28     37  120000                    0                 3.502399\n",
      "29     26  188000                    0                30.655855\n",
      "...   ...     ...                  ...                      ...\n",
      "9745   23   25480                    0                15.896278\n",
      "9746   47   54996                    0                16.066442\n",
      "9747   29   48000                    0                25.951508\n",
      "9748   22   38000                    1                95.948769\n",
      "9749   46   48000                    1                62.113510\n",
      "9750   24  110000                    0                 9.798860\n",
      "9751   32   45000                    0                11.251337\n",
      "9752   25   50000                    0                24.486813\n",
      "9753   24   30000                    0                18.567739\n",
      "9754   31   65000                    0                 9.728171\n",
      "9755   32   42000                    0                 3.299242\n",
      "9756   25   93000                    0                 2.288621\n",
      "9757   41  125000                    0                 2.488625\n",
      "9758   27   48996                    0                17.336189\n",
      "9759   25   31000                    0                18.363859\n",
      "9760   28   54000                    1                87.049835\n",
      "9761   25  105000                    0                 5.940589\n",
      "9762   26   53000                    0                 6.622136\n",
      "9763   23   49530                    1                81.914398\n",
      "9764   24   31000                    1                98.242798\n",
      "9765   26   33996                    0                17.142668\n",
      "9766   28   60000                    0                 2.457521\n",
      "9767   21   62316                    0                 7.307543\n",
      "9768   32   45000                    0                 8.631152\n",
      "9769   27   48000                    0                13.826089\n",
      "9770   38   70000                    0                12.932838\n",
      "9771   27  150000                    0                 5.835878\n",
      "9772   33   19200                    1                98.327522\n",
      "9773   29   96500                    0                 5.939368\n",
      "9774   30  110925                    1                78.113487\n",
      "\n",
      "[9775 rows x 4 columns]\n"
     ]
    }
   ],
   "source": [
    "print('LogR Prediction Table')\n",
    "test_pred_table_xg = test_pred_table_xg.reset_index(drop=True)\n",
    "test_pred_table_xg.to_csv('test_prediction_xg.csv')\n",
    "print(test_pred_table_xg)"
   ]
  },
  {
   "cell_type": "code",
   "execution_count": null,
   "metadata": {},
   "outputs": [],
   "source": []
  }
 ],
 "metadata": {
  "kernelspec": {
   "display_name": "Python 3",
   "language": "python",
   "name": "python3"
  },
  "language_info": {
   "codemirror_mode": {
    "name": "ipython",
    "version": 3
   },
   "file_extension": ".py",
   "mimetype": "text/x-python",
   "name": "python",
   "nbconvert_exporter": "python",
   "pygments_lexer": "ipython3",
   "version": "3.6.8"
  }
 },
 "nbformat": 4,
 "nbformat_minor": 2
}
